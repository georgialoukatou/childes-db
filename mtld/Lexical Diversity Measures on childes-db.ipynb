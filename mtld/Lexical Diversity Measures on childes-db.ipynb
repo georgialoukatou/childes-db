{
 "cells": [
  {
   "cell_type": "code",
   "execution_count": 1,
   "metadata": {
    "collapsed": true
   },
   "outputs": [],
   "source": [
    "# sm on 3 April 2018, for childes-db draft"
   ]
  },
  {
   "cell_type": "code",
   "execution_count": 2,
   "metadata": {
    "collapsed": false
   },
   "outputs": [
    {
     "name": "stderr",
     "output_type": "stream",
     "text": [
      "/usr/local/lib/python2.7/dist-packages/pandas/core/computation/__init__.py:18: UserWarning: The installed version of numexpr 2.2.2 is not supported in pandas and will be not be used\n",
      "The minimum supported version is 2.4.6\n",
      "\n",
      "  ver=ver, min_ver=_MIN_NUMEXPR_VERSION), UserWarning)\n"
     ]
    }
   ],
   "source": [
    "import pandas as pd\n",
    "import MySQLdb\n",
    "import sqlalchemy\n",
    "import mysql_config\n",
    "import numpy as np\n",
    "import sys\n",
    "import lexical_diversity\n",
    "from joblib import Parallel, delayed\n",
    "import multiprocessing"
   ]
  },
  {
   "cell_type": "code",
   "execution_count": 3,
   "metadata": {
    "collapsed": true
   },
   "outputs": [],
   "source": [
    "def extract(utterance):\n",
    "    return(utterance.split(' '))\n",
    "\n",
    "def flatten(gloss_arrays):\n",
    "    return([item for sublist in gloss_arrays for item in sublist])\n",
    "\n",
    "def num_types(gloss_array):\n",
    "    return(len(set(gloss_array)))"
   ]
  },
  {
   "cell_type": "code",
   "execution_count": 4,
   "metadata": {
    "collapsed": false
   },
   "outputs": [],
   "source": [
    "auth = mysql_config.Authenticator('ec2')"
   ]
  },
  {
   "cell_type": "code",
   "execution_count": 5,
   "metadata": {
    "collapsed": false
   },
   "outputs": [],
   "source": [
    "con= MySQLdb.connect(host=auth.host, \n",
    "                port=auth.port,user=auth.user, passwd=auth.passwd, \n",
    "                db='childesdb')"
   ]
  },
  {
   "cell_type": "code",
   "execution_count": 6,
   "metadata": {
    "collapsed": false
   },
   "outputs": [],
   "source": [
    "# load utterances into memory, about 3 minutes on Chompsky; 16.5m * 3 array; don't do it on little machines\n",
    "utterances = pd.read_sql(\"select collection_id, transcript_id, corpus_id, speaker_role, gloss from utterance\", con)"
   ]
  },
  {
   "cell_type": "code",
   "execution_count": 7,
   "metadata": {
    "collapsed": false
   },
   "outputs": [
    {
     "data": {
      "text/html": [
       "<div>\n",
       "<style>\n",
       "    .dataframe thead tr:only-child th {\n",
       "        text-align: right;\n",
       "    }\n",
       "\n",
       "    .dataframe thead th {\n",
       "        text-align: left;\n",
       "    }\n",
       "\n",
       "    .dataframe tbody tr th {\n",
       "        vertical-align: top;\n",
       "    }\n",
       "</style>\n",
       "<table border=\"1\" class=\"dataframe\">\n",
       "  <thead>\n",
       "    <tr style=\"text-align: right;\">\n",
       "      <th></th>\n",
       "      <th>collection_id</th>\n",
       "      <th>transcript_id</th>\n",
       "      <th>corpus_id</th>\n",
       "      <th>speaker_role</th>\n",
       "      <th>gloss</th>\n",
       "    </tr>\n",
       "  </thead>\n",
       "  <tbody>\n",
       "    <tr>\n",
       "      <th>0</th>\n",
       "      <td>1</td>\n",
       "      <td>1</td>\n",
       "      <td>1</td>\n",
       "      <td>Adult</td>\n",
       "      <td>muy bien Diana</td>\n",
       "    </tr>\n",
       "    <tr>\n",
       "      <th>1</th>\n",
       "      <td>1</td>\n",
       "      <td>2</td>\n",
       "      <td>1</td>\n",
       "      <td>Adult</td>\n",
       "      <td>hab�a una vez una ni�a</td>\n",
       "    </tr>\n",
       "    <tr>\n",
       "      <th>2</th>\n",
       "      <td>1</td>\n",
       "      <td>1</td>\n",
       "      <td>1</td>\n",
       "      <td>Adult</td>\n",
       "      <td>qui�n gan�</td>\n",
       "    </tr>\n",
       "    <tr>\n",
       "      <th>3</th>\n",
       "      <td>1</td>\n",
       "      <td>1</td>\n",
       "      <td>1</td>\n",
       "      <td>Child</td>\n",
       "      <td>la roja</td>\n",
       "    </tr>\n",
       "    <tr>\n",
       "      <th>4</th>\n",
       "      <td>1</td>\n",
       "      <td>2</td>\n",
       "      <td>1</td>\n",
       "      <td>Adult</td>\n",
       "      <td>que le ten�a mucho miedo a la oscuridad</td>\n",
       "    </tr>\n",
       "  </tbody>\n",
       "</table>\n",
       "</div>"
      ],
      "text/plain": [
       "   collection_id  transcript_id  corpus_id speaker_role  \\\n",
       "0              1              1          1        Adult   \n",
       "1              1              2          1        Adult   \n",
       "2              1              1          1        Adult   \n",
       "3              1              1          1        Child   \n",
       "4              1              2          1        Adult   \n",
       "\n",
       "                                     gloss  \n",
       "0                           muy bien Diana  \n",
       "1                   hab�a una vez una ni�a  \n",
       "2                               qui�n gan�  \n",
       "3                                  la roja  \n",
       "4  que le ten�a mucho miedo a la oscuridad  "
      ]
     },
     "execution_count": 7,
     "metadata": {},
     "output_type": "execute_result"
    }
   ],
   "source": [
    "utterances.iloc[0:5]"
   ]
  },
  {
   "cell_type": "code",
   "execution_count": 8,
   "metadata": {
    "collapsed": true
   },
   "outputs": [],
   "source": [
    "utterances['gloss_array'] = [extract(x) for x in utterances.gloss]"
   ]
  },
  {
   "cell_type": "code",
   "execution_count": 9,
   "metadata": {
    "collapsed": false
   },
   "outputs": [],
   "source": [
    "transcripts = utterances.groupby(['transcript_id','speaker_role']).gloss_array.agg(flatten).reset_index()\n",
    "transcripts['num_tokens'] = [len(x) for x in transcripts.gloss_array]    "
   ]
  },
  {
   "cell_type": "code",
   "execution_count": 10,
   "metadata": {
    "collapsed": false
   },
   "outputs": [
    {
     "data": {
      "text/html": [
       "<div>\n",
       "<style>\n",
       "    .dataframe thead tr:only-child th {\n",
       "        text-align: right;\n",
       "    }\n",
       "\n",
       "    .dataframe thead th {\n",
       "        text-align: left;\n",
       "    }\n",
       "\n",
       "    .dataframe tbody tr th {\n",
       "        vertical-align: top;\n",
       "    }\n",
       "</style>\n",
       "<table border=\"1\" class=\"dataframe\">\n",
       "  <thead>\n",
       "    <tr style=\"text-align: right;\">\n",
       "      <th></th>\n",
       "      <th>transcript_id</th>\n",
       "      <th>speaker_role</th>\n",
       "      <th>gloss_array</th>\n",
       "      <th>num_tokens</th>\n",
       "    </tr>\n",
       "  </thead>\n",
       "  <tbody>\n",
       "    <tr>\n",
       "      <th>0</th>\n",
       "      <td>1</td>\n",
       "      <td>Adult</td>\n",
       "      <td>[muy, bien, Diana, qui�n, gan�, la, roja, porq...</td>\n",
       "      <td>200</td>\n",
       "    </tr>\n",
       "    <tr>\n",
       "      <th>1</th>\n",
       "      <td>1</td>\n",
       "      <td>Child</td>\n",
       "      <td>[la, roja, porque, ella, la, explic�, mejor, m...</td>\n",
       "      <td>160</td>\n",
       "    </tr>\n",
       "    <tr>\n",
       "      <th>2</th>\n",
       "      <td>2</td>\n",
       "      <td>Adult</td>\n",
       "      <td>[hab�a, una, vez, una, ni�a, que, le, ten�a, m...</td>\n",
       "      <td>17</td>\n",
       "    </tr>\n",
       "    <tr>\n",
       "      <th>3</th>\n",
       "      <td>2</td>\n",
       "      <td>Child</td>\n",
       "      <td>[en, eso, se, fue, la, luz, entonces, se, espa...</td>\n",
       "      <td>233</td>\n",
       "    </tr>\n",
       "    <tr>\n",
       "      <th>4</th>\n",
       "      <td>3</td>\n",
       "      <td>Adult</td>\n",
       "      <td>[qui�n, gan�, el, amarillo, porqu�, porqu�, fu...</td>\n",
       "      <td>160</td>\n",
       "    </tr>\n",
       "  </tbody>\n",
       "</table>\n",
       "</div>"
      ],
      "text/plain": [
       "   transcript_id speaker_role  \\\n",
       "0              1        Adult   \n",
       "1              1        Child   \n",
       "2              2        Adult   \n",
       "3              2        Child   \n",
       "4              3        Adult   \n",
       "\n",
       "                                         gloss_array  num_tokens  \n",
       "0  [muy, bien, Diana, qui�n, gan�, la, roja, porq...         200  \n",
       "1  [la, roja, porque, ella, la, explic�, mejor, m...         160  \n",
       "2  [hab�a, una, vez, una, ni�a, que, le, ten�a, m...          17  \n",
       "3  [en, eso, se, fue, la, luz, entonces, se, espa...         233  \n",
       "4  [qui�n, gan�, el, amarillo, porqu�, porqu�, fu...         160  "
      ]
     },
     "execution_count": 10,
     "metadata": {},
     "output_type": "execute_result"
    }
   ],
   "source": [
    "transcripts.iloc[0:5]\n"
   ]
  },
  {
   "cell_type": "code",
   "execution_count": 11,
   "metadata": {
    "collapsed": false
   },
   "outputs": [],
   "source": [
    "def compute_lexical_measures(row):\n",
    "    return({'hdd': lexical_diversity.hdd(row['gloss_array']),\n",
    "           'mtld':lexical_diversity.mtld(row['gloss_array']),\n",
    "           'num_types': num_types(row['gloss_array']),\n",
    "           'transcript_id': row['transcript_id'],\n",
    "            'speaker_role': row['speaker_role'],\n",
    "           'num_tokens': row['num_tokens'],\n",
    "           })"
   ]
  },
  {
   "cell_type": "code",
   "execution_count": null,
   "metadata": {
    "collapsed": false
   },
   "outputs": [],
   "source": [
    "# serial version -- lower memory usage\n",
    "\n",
    "#transcripts['mtld'] = [lexical_diversity.mtld(x) for x in transcripts.gloss_array]\n",
    "#transcripts['hdd'] = [lexical_diversity.hdd(x) for x in transcripts.gloss_array]\n",
    "#transcripts['num_types'] = [num_types(x) for x in transcripts.gloss_array]\n",
    "#transcripts['ttr'] = transcripts['num_types'] / transcripts['num_tokens']"
   ]
  },
  {
   "cell_type": "code",
   "execution_count": 12,
   "metadata": {
    "collapsed": false
   },
   "outputs": [
    {
     "name": "stderr",
     "output_type": "stream",
     "text": [
      "lexical_diversity.py:63: RuntimeWarning: invalid value encountered in double_scalars\n",
      "  scipy.special.comb(population, sample)\n",
      "lexical_diversity.py:63: RuntimeWarning: invalid value encountered in double_scalars\n",
      "  scipy.special.comb(population, sample)\n",
      "lexical_diversity.py:63: RuntimeWarning: invalid value encountered in double_scalars\n",
      "  scipy.special.comb(population, sample)\n",
      "lexical_diversity.py:63: RuntimeWarning: invalid value encountered in double_scalars\n",
      "  scipy.special.comb(population, sample)\n",
      "lexical_diversity.py:63: RuntimeWarning: invalid value encountered in double_scalars\n",
      "  scipy.special.comb(population, sample)\n",
      "lexical_diversity.py:63: RuntimeWarning: invalid value encountered in double_scalars\n",
      "  scipy.special.comb(population, sample)\n",
      "lexical_diversity.py:63: RuntimeWarning: invalid value encountered in double_scalars\n",
      "  scipy.special.comb(population, sample)\n",
      "lexical_diversity.py:63: RuntimeWarning: invalid value encountered in double_scalars\n",
      "  scipy.special.comb(population, sample)\n",
      "lexical_diversity.py:63: RuntimeWarning: invalid value encountered in double_scalars\n",
      "  scipy.special.comb(population, sample)\n",
      "lexical_diversity.py:63: RuntimeWarning: invalid value encountered in double_scalars\n",
      "  scipy.special.comb(population, sample)\n",
      "lexical_diversity.py:63: RuntimeWarning: invalid value encountered in double_scalars\n",
      "  scipy.special.comb(population, sample)\n",
      "lexical_diversity.py:63: RuntimeWarning: invalid value encountered in double_scalars\n",
      "  scipy.special.comb(population, sample)\n",
      "lexical_diversity.py:63: RuntimeWarning: invalid value encountered in double_scalars\n",
      "  scipy.special.comb(population, sample)\n",
      "lexical_diversity.py:63: RuntimeWarning: invalid value encountered in double_scalars\n",
      "  scipy.special.comb(population, sample)\n",
      "lexical_diversity.py:63: RuntimeWarning: invalid value encountered in double_scalars\n",
      "  scipy.special.comb(population, sample)\n",
      "lexical_diversity.py:63: RuntimeWarning: invalid value encountered in double_scalars\n",
      "  scipy.special.comb(population, sample)\n",
      "lexical_diversity.py:63: RuntimeWarning: invalid value encountered in double_scalars\n",
      "  scipy.special.comb(population, sample)\n",
      "lexical_diversity.py:63: RuntimeWarning: invalid value encountered in double_scalars\n",
      "  scipy.special.comb(population, sample)\n",
      "lexical_diversity.py:63: RuntimeWarning: invalid value encountered in double_scalars\n",
      "  scipy.special.comb(population, sample)\n",
      "lexical_diversity.py:63: RuntimeWarning: invalid value encountered in double_scalars\n",
      "  scipy.special.comb(population, sample)\n",
      "lexical_diversity.py:63: RuntimeWarning: invalid value encountered in double_scalars\n",
      "  scipy.special.comb(population, sample)\n",
      "lexical_diversity.py:63: RuntimeWarning: invalid value encountered in double_scalars\n",
      "  scipy.special.comb(population, sample)\n",
      "lexical_diversity.py:63: RuntimeWarning: invalid value encountered in double_scalars\n",
      "  scipy.special.comb(population, sample)\n",
      "lexical_diversity.py:63: RuntimeWarning: invalid value encountered in double_scalars\n",
      "  scipy.special.comb(population, sample)\n"
     ]
    }
   ],
   "source": [
    "# parallel version -- not much improvement because lots of jobs / overhead\n",
    "lex_measures = pd.DataFrame(Parallel(n_jobs=multiprocessing.cpu_count())(delayed(compute_lexical_measures)(i) for i in transcripts.to_dict('records')))"
   ]
  },
  {
   "cell_type": "code",
   "execution_count": 13,
   "metadata": {
    "collapsed": true
   },
   "outputs": [],
   "source": [
    "lex_measures['ttr'] = lex_measures.num_types / lex_measures.num_tokens"
   ]
  },
  {
   "cell_type": "code",
   "execution_count": 15,
   "metadata": {
    "collapsed": false
   },
   "outputs": [
    {
     "data": {
      "text/html": [
       "<div>\n",
       "<style>\n",
       "    .dataframe thead tr:only-child th {\n",
       "        text-align: right;\n",
       "    }\n",
       "\n",
       "    .dataframe thead th {\n",
       "        text-align: left;\n",
       "    }\n",
       "\n",
       "    .dataframe tbody tr th {\n",
       "        vertical-align: top;\n",
       "    }\n",
       "</style>\n",
       "<table border=\"1\" class=\"dataframe\">\n",
       "  <thead>\n",
       "    <tr style=\"text-align: right;\">\n",
       "      <th></th>\n",
       "      <th>hdd</th>\n",
       "      <th>mtld</th>\n",
       "      <th>num_tokens</th>\n",
       "      <th>num_types</th>\n",
       "      <th>speaker_role</th>\n",
       "      <th>transcript_id</th>\n",
       "      <th>ttr</th>\n",
       "    </tr>\n",
       "  </thead>\n",
       "  <tbody>\n",
       "    <tr>\n",
       "      <th>0</th>\n",
       "      <td>0.736008</td>\n",
       "      <td>10.526316</td>\n",
       "      <td>200</td>\n",
       "      <td>82</td>\n",
       "      <td>Adult</td>\n",
       "      <td>1</td>\n",
       "      <td>0.410000</td>\n",
       "    </tr>\n",
       "    <tr>\n",
       "      <th>1</th>\n",
       "      <td>0.763520</td>\n",
       "      <td>11.428571</td>\n",
       "      <td>160</td>\n",
       "      <td>79</td>\n",
       "      <td>Child</td>\n",
       "      <td>1</td>\n",
       "      <td>0.493750</td>\n",
       "    </tr>\n",
       "    <tr>\n",
       "      <th>2</th>\n",
       "      <td>NaN</td>\n",
       "      <td>NaN</td>\n",
       "      <td>17</td>\n",
       "      <td>16</td>\n",
       "      <td>Adult</td>\n",
       "      <td>2</td>\n",
       "      <td>0.941176</td>\n",
       "    </tr>\n",
       "    <tr>\n",
       "      <th>3</th>\n",
       "      <td>0.812148</td>\n",
       "      <td>12.944444</td>\n",
       "      <td>233</td>\n",
       "      <td>114</td>\n",
       "      <td>Child</td>\n",
       "      <td>2</td>\n",
       "      <td>0.489270</td>\n",
       "    </tr>\n",
       "    <tr>\n",
       "      <th>4</th>\n",
       "      <td>0.754292</td>\n",
       "      <td>11.428571</td>\n",
       "      <td>160</td>\n",
       "      <td>75</td>\n",
       "      <td>Adult</td>\n",
       "      <td>3</td>\n",
       "      <td>0.468750</td>\n",
       "    </tr>\n",
       "  </tbody>\n",
       "</table>\n",
       "</div>"
      ],
      "text/plain": [
       "        hdd       mtld  num_tokens  num_types speaker_role  transcript_id  \\\n",
       "0  0.736008  10.526316         200         82        Adult              1   \n",
       "1  0.763520  11.428571         160         79        Child              1   \n",
       "2       NaN        NaN          17         16        Adult              2   \n",
       "3  0.812148  12.944444         233        114        Child              2   \n",
       "4  0.754292  11.428571         160         75        Adult              3   \n",
       "\n",
       "        ttr  \n",
       "0  0.410000  \n",
       "1  0.493750  \n",
       "2  0.941176  \n",
       "3  0.489270  \n",
       "4  0.468750  "
      ]
     },
     "execution_count": 15,
     "metadata": {},
     "output_type": "execute_result"
    }
   ],
   "source": [
    "lex_measures.iloc[0:5]"
   ]
  },
  {
   "cell_type": "code",
   "execution_count": null,
   "metadata": {
    "collapsed": true
   },
   "outputs": [],
   "source": [
    "#[ ] write back to the database\n",
    "#lex_measures.to_sql(name='!!!', con=con, if_exists='replace')\n",
    "# this would replace the stuff in transcript_by_speaker..."
   ]
  }
 ],
 "metadata": {
  "kernelspec": {
   "display_name": "Python 2",
   "language": "python",
   "name": "python2"
  },
  "language_info": {
   "codemirror_mode": {
    "name": "ipython",
    "version": 2
   },
   "file_extension": ".py",
   "mimetype": "text/x-python",
   "name": "python",
   "nbconvert_exporter": "python",
   "pygments_lexer": "ipython2",
   "version": "2.7.6"
  }
 },
 "nbformat": 4,
 "nbformat_minor": 0
}
